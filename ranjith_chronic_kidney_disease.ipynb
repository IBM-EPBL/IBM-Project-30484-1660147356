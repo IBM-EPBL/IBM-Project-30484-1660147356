{
  "nbformat": 4,
  "nbformat_minor": 0,
  "metadata": {
    "colab": {
      "provenance": [],
      "collapsed_sections": []
    },
    "kernelspec": {
      "name": "python3",
      "display_name": "Python 3"
    },
    "language_info": {
      "name": "python"
    }
  },
  "cells": [
    {
      "cell_type": "code",
      "execution_count": null,
      "metadata": {
        "colab": {
          "base_uri": "https://localhost:8080/",
          "height": 269
        },
        "id": "D0D8P88muGsQ",
        "outputId": "1009f43e-b311-4e3e-f3e7-3e50959967a7"
      },
      "outputs": [
        {
          "output_type": "stream",
          "name": "stdout",
          "text": [
            " * Serving Flask app \"__main__\" (lazy loading)\n",
            " * Environment: production\n",
            "\u001b[31m   WARNING: This is a development server. Do not use it in a production deployment.\u001b[0m\n",
            "\u001b[2m   Use a production WSGI server instead.\u001b[0m\n",
            " * Debug mode: on\n"
          ]
        },
        {
          "output_type": "stream",
          "name": "stderr",
          "text": [
            "INFO:werkzeug: * Running on http://127.0.0.1:5000/ (Press CTRL+C to quit)\n",
            "INFO:werkzeug: * Restarting with stat\n"
          ]
        },
        {
          "output_type": "error",
          "ename": "SystemExit",
          "evalue": "ignored",
          "traceback": [
            "An exception has occurred, use %tb to see the full traceback.\n",
            "\u001b[0;31mSystemExit\u001b[0m\u001b[0;31m:\u001b[0m 1\n"
          ]
        },
        {
          "output_type": "stream",
          "name": "stderr",
          "text": [
            "/usr/local/lib/python3.7/dist-packages/IPython/core/interactiveshell.py:3334: UserWarning: To exit: use 'exit', 'quit', or Ctrl-D.\n",
            "  warn(\"To exit: use 'exit', 'quit', or Ctrl-D.\", stacklevel=1)\n"
          ]
        }
      ],
      "source": [
        "from flask import Flask, render_template, request, flash, redirect\n",
        "import pickle\n",
        "import numpy as np\n",
        "from PIL import Image\n",
        "from tensorflow.keras.models import load_model\n",
        "\n",
        "\n",
        "\n",
        "app = Flask(__name__)\n",
        "\n",
        "def predict(values, dic):\n",
        "    if len(values) == 8:\n",
        "        model = pickle.load(open('models/diabetes.pkl','rb'))\n",
        "        values = np.asarray(values)\n",
        "        return model.predict(values.reshape(1, -1))[0]\n",
        "    elif len(values) == 26:\n",
        "        model = pickle.load(open('models/breast_cancer.pkl','rb'))\n",
        "        values = np.asarray(values)\n",
        "        return model.predict(values.reshape(1, -1))[0]\n",
        "    elif len(values) == 13:\n",
        "        model = pickle.load(open('models/heart.pkl','rb'))\n",
        "        values = np.asarray(values)\n",
        "        return model.predict(values.reshape(1, -1))[0]\n",
        "    elif len(values) == 18:\n",
        "        model = pickle.load(open('models/kidney.pkl','rb'))\n",
        "        values = np.asarray(values)\n",
        "        return model.predict(values.reshape(1, -1))[0]\n",
        "    elif len(values) == 10:\n",
        "        model = pickle.load(open('models/liver.pkl','rb'))\n",
        "        values = np.asarray(values)\n",
        "        return model.predict(values.reshape(1, -1))[0]\n",
        "\n",
        "@app.route(\"/\")\n",
        "def home():\n",
        "    return render_template('home.html')\n",
        "\n",
        "@app.route(\"/diabetes\", methods=['GET', 'POST'])\n",
        "def diabetesPage():\n",
        "    return render_template('diabetes.html')\n",
        "\n",
        "@app.route(\"/cancer\", methods=['GET', 'POST'])\n",
        "def cancerPage():\n",
        "    return render_template('breast_cancer.html')\n",
        "\n",
        "@app.route(\"/heart\", methods=['GET', 'POST'])\n",
        "def heartPage():\n",
        "    return render_template('heart.html')\n",
        "\n",
        "@app.route(\"/kidney\", methods=['GET', 'POST'])\n",
        "def kidneyPage():\n",
        "    return render_template('kidney.html')\n",
        "\n",
        "@app.route(\"/liver\", methods=['GET', 'POST'])\n",
        "def liverPage():\n",
        "    return render_template('liver.html')\n",
        "\n",
        "@app.route(\"/malaria\", methods=['GET', 'POST'])\n",
        "def malariaPage():\n",
        "    return render_template('malaria.html')\n",
        "\n",
        "@app.route(\"/pneumonia\", methods=['GET', 'POST'])\n",
        "def pneumoniaPage():\n",
        "    return render_template('pneumonia.html')\n",
        "\n",
        "@app.route(\"/predict\", methods = ['POST', 'GET'])\n",
        "def predictPage():\n",
        "    try:\n",
        "        if request.method == 'POST':\n",
        "            to_predict_dict = request.form.to_dict()\n",
        "            to_predict_list = list(map(float, list(to_predict_dict.values())))\n",
        "            pred = predict(to_predict_list, to_predict_dict)\n",
        "    except:\n",
        "        message = \"Please enter valid Data\"\n",
        "        return render_template(\"home.html\", message = message)\n",
        "\n",
        "    return render_template('predict.html', pred = pred)\n",
        "\n",
        "@app.route(\"/malariapredict\", methods = ['POST', 'GET'])\n",
        "def malariapredictPage():\n",
        "    if request.method == 'POST':\n",
        "        try:\n",
        "            if 'image' in request.files:\n",
        "                img = Image.open(request.files['image'])\n",
        "                img = img.resize((36,36))\n",
        "                img = np.asarray(img)\n",
        "                img = img.reshape((1,36,36,3))\n",
        "                img = img.astype(np.float64)\n",
        "                model = load_model(\"models/malaria.h5\")\n",
        "                pred = np.argmax(model.predict(img)[0])\n",
        "        except:\n",
        "            message = \"Please upload an Image\"\n",
        "            return render_template('malaria.html', message = message)\n",
        "    return render_template('malaria_predict.html', pred = pred)\n",
        "\n",
        "@app.route(\"/pneumoniapredict\", methods = ['POST', 'GET'])\n",
        "def pneumoniapredictPage():\n",
        "    if request.method == 'POST':\n",
        "        try:\n",
        "            if 'image' in request.files:\n",
        "                img = Image.open(request.files['image']).convert('L')\n",
        "                img = img.resize((36,36))\n",
        "                img = np.asarray(img)\n",
        "                img = img.reshape((1,36,36,1))\n",
        "                img = img / 255.0\n",
        "                model = load_model(\"models/pneumonia.h5\")\n",
        "                pred = np.argmax(model.predict(img)[0])\n",
        "        except:\n",
        "            message = \"Please upload an Image\"\n",
        "            return render_template('pneumonia.html', message = message)\n",
        "    return render_template('pneumonia_predict.html', pred = pred)\n",
        "\n",
        "if __name__ == '__main__':\n",
        "\tapp.run(debug = True)"
      ]
    }
  ]
}